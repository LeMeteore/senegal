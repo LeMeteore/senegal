{
 "cells": [
  {
   "cell_type": "markdown",
   "metadata": {},
   "source": [
    "# Senegalese tax and benefit system from scratch"
   ]
  },
  {
   "cell_type": "code",
   "execution_count": 1,
   "metadata": {
    "collapsed": true
   },
   "outputs": [],
   "source": [
    "%load_ext autoreload\n",
    "%autoreload 2"
   ]
  },
  {
   "cell_type": "code",
   "execution_count": 2,
   "metadata": {
    "collapsed": false,
    "scrolled": true
   },
   "outputs": [],
   "source": [
    "from openfisca_core.columns import IntCol, DateCol, FloatCol\n",
    "from openfisca_core.formulas import set_input_divide_by_period\n",
    "from openfisca_core.variables import Variable\n",
    "\n",
    "from openfisca_senegal import SenegalTaxBenefitSystem\n",
    "from openfisca_senegal.entities import Individus"
   ]
  },
  {
   "cell_type": "code",
   "execution_count": 3,
   "metadata": {
    "collapsed": false
   },
   "outputs": [],
   "source": [
    "tax_benefit_system = SenegalTaxBenefitSystem()"
   ]
  },
  {
   "cell_type": "code",
   "execution_count": 7,
   "metadata": {
    "collapsed": false
   },
   "outputs": [
    {
     "data": {
      "text/plain": [
       "<openfisca_senegal.senegal_taxbenefitsystem.SenegalTaxBenefitSystem at 0x7fdb0c4a4610>"
      ]
     },
     "execution_count": 7,
     "metadata": {},
     "output_type": "execute_result"
    }
   ],
   "source": [
    "class id_famille(Variable):\n",
    "    column = IntCol\n",
    "    entity_class = Individus\n",
    "    is_permanent = True\n",
    "    label = u\"Identifiant de la famille\"\n",
    "\n",
    "tax_benefit_system.update_variable(id_famille)\n",
    "\n",
    "class role_dans_famille(Variable):\n",
    "    column = IntCol\n",
    "    entity_class = Individus\n",
    "    is_permanent = True\n",
    "    label = u\"Rôle dans la famille\"\n",
    "\n",
    "tax_benefit_system.update_variable(role_dans_famille)\n",
    "\n",
    "class date_de_naissance(Variable):\n",
    "    column = DateCol\n",
    "    entity_class = Individus\n",
    "    label = u\"Date de naissance\"\n",
    "\n",
    "tax_benefit_system.update_variable(date_de_naissance)\n",
    "\n",
    "class salaire(Variable):\n",
    "    column = FloatCol\n",
    "    entity_class = Individus\n",
    "    label = \"Salaire\"\n",
    "    set_input = set_input_divide_by_period\n",
    "\n",
    "tax_benefit_system.update_variable(salaire)\n",
    "\n",
    "class impot_revenu(Variable):\n",
    "    column = FloatCol\n",
    "    entity_class = Individus\n",
    "    label = u\"Impôt sur le revenu\"\n",
    "\n",
    "    def function(self, simulation, period):\n",
    "        salaire = simulation.calculate_add('salaire', period)\n",
    "        return period, salaire * 0.3\n",
    "\n",
    "tax_benefit_system.update_variable(impot_revenu)\n",
    "\n",
    "tax_benefit_system"
   ]
  },
  {
   "cell_type": "code",
   "execution_count": 8,
   "metadata": {
    "collapsed": true
   },
   "outputs": [],
   "source": [
    "scenario = tax_benefit_system.new_scenario()"
   ]
  },
  {
   "cell_type": "code",
   "execution_count": 10,
   "metadata": {
    "collapsed": false
   },
   "outputs": [
    {
     "data": {
      "text/plain": [
       "<openfisca_senegal.scenarios.Scenario at 0x7fdae6e3f990>"
      ]
     },
     "execution_count": 10,
     "metadata": {},
     "output_type": "execute_result"
    }
   ],
   "source": [
    "scenario.init_single_entity(\n",
    "    parent1={'salaire': 100000},\n",
    "    period='2015',\n",
    ")"
   ]
  },
  {
   "cell_type": "code",
   "execution_count": 11,
   "metadata": {
    "collapsed": true
   },
   "outputs": [],
   "source": [
    "simulation = scenario.new_simulation()"
   ]
  },
  {
   "cell_type": "code",
   "execution_count": 13,
   "metadata": {
    "collapsed": false
   },
   "outputs": [
    {
     "data": {
      "text/plain": [
       "array([ 100000.], dtype=float32)"
      ]
     },
     "execution_count": 13,
     "metadata": {},
     "output_type": "execute_result"
    }
   ],
   "source": [
    "simulation.calculate('salaire', '2015')"
   ]
  },
  {
   "cell_type": "code",
   "execution_count": 14,
   "metadata": {
    "collapsed": false
   },
   "outputs": [
    {
     "data": {
      "text/plain": [
       "array([ 30000.00195312], dtype=float32)"
      ]
     },
     "execution_count": 14,
     "metadata": {},
     "output_type": "execute_result"
    }
   ],
   "source": [
    "simulation.calculate('impot_revenu', '2015')"
   ]
  },
  {
   "cell_type": "code",
   "execution_count": null,
   "metadata": {
    "collapsed": true
   },
   "outputs": [],
   "source": []
  }
 ],
 "metadata": {
  "kernelspec": {
   "display_name": "Python 2",
   "language": "python",
   "name": "python2"
  },
  "language_info": {
   "codemirror_mode": {
    "name": "ipython",
    "version": 2
   },
   "file_extension": ".py",
   "mimetype": "text/x-python",
   "name": "python",
   "nbconvert_exporter": "python",
   "pygments_lexer": "ipython2",
   "version": "2.7.12"
  }
 },
 "nbformat": 4,
 "nbformat_minor": 0
}
