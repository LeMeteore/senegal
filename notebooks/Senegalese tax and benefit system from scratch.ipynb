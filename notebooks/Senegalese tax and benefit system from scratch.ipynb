{
 "cells": [
  {
   "cell_type": "markdown",
   "metadata": {},
   "source": [
    "# Senegalese tax and benefit system from scratch"
   ]
  },
  {
   "cell_type": "code",
   "execution_count": 1,
   "metadata": {
    "collapsed": true
   },
   "outputs": [],
   "source": [
    "%load_ext autoreload\n",
    "%autoreload 2"
   ]
  },
  {
   "cell_type": "code",
   "execution_count": 21,
   "metadata": {
    "collapsed": false,
    "scrolled": true
   },
   "outputs": [],
   "source": [
    "from openfisca_core.columns import IntCol, DateCol, FloatCol\n",
    "from openfisca_core.formulas import set_input_divide_by_period\n",
    "from openfisca_core.variables import Variable\n",
    "\n",
    "from openfisca_senegal import SenegalTaxBenefitSystem\n",
    "from openfisca_senegal.entities import Individus"
   ]
  },
  {
   "cell_type": "code",
   "execution_count": 3,
   "metadata": {
    "collapsed": false
   },
   "outputs": [],
   "source": [
    "tax_benefit_system = SenegalTaxBenefitSystem()"
   ]
  },
  {
   "cell_type": "code",
   "execution_count": 4,
   "metadata": {
    "collapsed": false
   },
   "outputs": [],
   "source": [
    "tax_benefit_system.add_legislation_params(u'''\n",
    "<NODE code=\"root\">\n",
    "  <BAREME code=\"bareme_impot_progressif\" type=\"monetary\">\n",
    "    <TRANCHE code=\"tranche0\">\n",
    "      <SEUIL>\n",
    "        <VALUE deb=\"2013-01-01\" fuzzy=\"true\" valeur=\"0\" />\n",
    "      </SEUIL>\n",
    "      <TAUX>\n",
    "        <VALUE deb=\"2013-01-01\" fuzzy=\"true\" valeur=\"0\" />\n",
    "      </TAUX>\n",
    "    </TRANCHE>\n",
    "    <TRANCHE code=\"tranche1\">\n",
    "      <SEUIL>\n",
    "        <VALUE deb=\"2013-01-01\" fuzzy=\"true\" valeur=\"630000\" />\n",
    "      </SEUIL>\n",
    "      <TAUX>\n",
    "        <VALUE deb=\"2013-01-01\" fuzzy=\"true\" valeur=\"0.2\" />\n",
    "      </TAUX>\n",
    "    </TRANCHE>\n",
    "    <TRANCHE code=\"tranche2\">\n",
    "      <SEUIL>\n",
    "        <VALUE deb=\"2013-01-01\" fuzzy=\"true\" valeur=\"1500000\" />\n",
    "      </SEUIL>\n",
    "      <TAUX>\n",
    "        <VALUE deb=\"2013-01-01\" fuzzy=\"true\" valeur=\"0.3\" />\n",
    "      </TAUX>\n",
    "    </TRANCHE>\n",
    "    <TRANCHE code=\"tranche3\">\n",
    "      <SEUIL>\n",
    "        <VALUE deb=\"2013-01-01\" fuzzy=\"true\" valeur=\"4000000\" />\n",
    "      </SEUIL>\n",
    "      <TAUX>\n",
    "        <VALUE deb=\"2013-01-01\" fuzzy=\"true\" valeur=\"0.35\" />\n",
    "      </TAUX>\n",
    "    </TRANCHE>\n",
    "    <TRANCHE code=\"tranche4\">\n",
    "      <SEUIL>\n",
    "        <VALUE deb=\"2013-01-01\" fuzzy=\"true\" valeur=\"8000000\" />\n",
    "      </SEUIL>\n",
    "      <TAUX>\n",
    "        <VALUE deb=\"2013-01-01\" fuzzy=\"true\" valeur=\"0.37\" />\n",
    "      </TAUX>\n",
    "    </TRANCHE>\n",
    "    <TRANCHE code=\"tranche5\">\n",
    "      <SEUIL>\n",
    "        <VALUE deb=\"2013-01-01\" fuzzy=\"true\" valeur=\"13500000\" />\n",
    "      </SEUIL>\n",
    "      <TAUX>\n",
    "        <VALUE deb=\"2013-01-01\" fuzzy=\"true\" valeur=\"0.4\" />\n",
    "      </TAUX>\n",
    "    </TRANCHE>\n",
    "  </BAREME>\n",
    "</NODE>\n",
    "''')"
   ]
  },
  {
   "cell_type": "code",
   "execution_count": 5,
   "metadata": {
    "collapsed": false
   },
   "outputs": [
    {
     "data": {
      "text/plain": [
       "<openfisca_senegal.senegal_taxbenefitsystem.SenegalTaxBenefitSystem at 0x7fba62f39610>"
      ]
     },
     "execution_count": 5,
     "metadata": {},
     "output_type": "execute_result"
    }
   ],
   "source": [
    "class id_famille(Variable):\n",
    "    column = IntCol\n",
    "    entity_class = Individus\n",
    "    is_permanent = True\n",
    "    label = u\"Identifiant de la famille\"\n",
    "\n",
    "tax_benefit_system.update_variable(id_famille)\n",
    "\n",
    "class role_dans_famille(Variable):\n",
    "    column = IntCol\n",
    "    entity_class = Individus\n",
    "    is_permanent = True\n",
    "    label = u\"Rôle dans la famille\"\n",
    "\n",
    "tax_benefit_system.update_variable(role_dans_famille)\n",
    "\n",
    "class date_de_naissance(Variable):\n",
    "    column = DateCol\n",
    "    entity_class = Individus\n",
    "    label = u\"Date de naissance\"\n",
    "\n",
    "tax_benefit_system.update_variable(date_de_naissance)\n",
    "\n",
    "class salaire(Variable):\n",
    "    column = FloatCol\n",
    "    entity_class = Individus\n",
    "    label = \"Salaire\"\n",
    "    set_input = set_input_divide_by_period\n",
    "\n",
    "tax_benefit_system.update_variable(salaire)\n",
    "\n",
    "class impot_progressif(Variable):\n",
    "    column = FloatCol\n",
    "    entity_class = Individus\n",
    "    label = u\"Impôt sur le revenu\"\n",
    "\n",
    "    def function(self, simulation, period):\n",
    "        salaire = simulation.calculate_add('salaire', period)\n",
    "        bareme_impot_progressif = simulation.legislation_at(period.start).bareme_impot_progressif\n",
    "        return period, bareme_impot_progressif.calc(salaire)\n",
    "\n",
    "tax_benefit_system.update_variable(impot_progressif)\n",
    "\n",
    "tax_benefit_system"
   ]
  },
  {
   "cell_type": "code",
   "execution_count": 6,
   "metadata": {
    "collapsed": true
   },
   "outputs": [],
   "source": [
    "scenario = tax_benefit_system.new_scenario()"
   ]
  },
  {
   "cell_type": "code",
   "execution_count": 7,
   "metadata": {
    "collapsed": false
   },
   "outputs": [
    {
     "data": {
      "text/plain": [
       "<openfisca_senegal.scenarios.Scenario at 0x7fba4b21ff10>"
      ]
     },
     "execution_count": 7,
     "metadata": {},
     "output_type": "execute_result"
    }
   ],
   "source": [
    "scenario.init_single_entity(\n",
    "    parent1={'salaire': 1800000},\n",
    "    period='2015',\n",
    ")"
   ]
  },
  {
   "cell_type": "code",
   "execution_count": 8,
   "metadata": {
    "collapsed": true
   },
   "outputs": [],
   "source": [
    "simulation = scenario.new_simulation()"
   ]
  },
  {
   "cell_type": "code",
   "execution_count": 9,
   "metadata": {
    "collapsed": false
   },
   "outputs": [
    {
     "data": {
      "text/plain": [
       "array([ 1800000.], dtype=float32)"
      ]
     },
     "execution_count": 9,
     "metadata": {},
     "output_type": "execute_result"
    }
   ],
   "source": [
    "simulation.calculate('salaire', period='2015')"
   ]
  },
  {
   "cell_type": "code",
   "execution_count": 11,
   "metadata": {
    "collapsed": false
   },
   "outputs": [
    {
     "data": {
      "text/plain": [
       "array([ 264000.], dtype=float32)"
      ]
     },
     "execution_count": 11,
     "metadata": {},
     "output_type": "execute_result"
    }
   ],
   "source": [
    "simulation.calculate('impot_progressif', period='2015')"
   ]
  },
  {
   "cell_type": "code",
   "execution_count": 14,
   "metadata": {
    "collapsed": false
   },
   "outputs": [
    {
     "data": {
      "text/plain": [
       "264000.0"
      ]
     },
     "execution_count": 14,
     "metadata": {},
     "output_type": "execute_result"
    }
   ],
   "source": [
    "(1500000 - 630000) * 0.2 + (1800000 - 1500000) * 0.3"
   ]
  },
  {
   "cell_type": "markdown",
   "metadata": {},
   "source": [
    "## Simuler plusieurs cas types à la fois"
   ]
  },
  {
   "cell_type": "code",
   "execution_count": 16,
   "metadata": {
    "collapsed": true
   },
   "outputs": [],
   "source": [
    "scenario2 = tax_benefit_system.new_scenario()"
   ]
  },
  {
   "cell_type": "code",
   "execution_count": 42,
   "metadata": {
    "collapsed": false
   },
   "outputs": [
    {
     "data": {
      "text/plain": [
       "<openfisca_senegal.scenarios.Scenario at 0x7fba4ad03f50>"
      ]
     },
     "execution_count": 42,
     "metadata": {},
     "output_type": "execute_result"
    }
   ],
   "source": [
    "scenario2.init_single_entity(\n",
    "    parent1={'salaire': 1800000},\n",
    "    period='2015',\n",
    "    axes=[\n",
    "        {\n",
    "            'count': 100,\n",
    "            'min': 0,\n",
    "            'max': 3e6,\n",
    "            'name': 'salaire',\n",
    "        }\n",
    "    ],\n",
    ")"
   ]
  },
  {
   "cell_type": "code",
   "execution_count": 43,
   "metadata": {
    "collapsed": true
   },
   "outputs": [],
   "source": [
    "simulation2 = scenario2.new_simulation()"
   ]
  },
  {
   "cell_type": "code",
   "execution_count": 44,
   "metadata": {
    "collapsed": false
   },
   "outputs": [
    {
     "data": {
      "text/plain": [
       "array([       0.     ,    30303.03125,    60606.0625 ,    90909.09375,\n",
       "         121212.125  ,   151515.15625,   181818.1875 ,   212121.21875,\n",
       "         242424.25   ,   272727.28125,   303030.3125 ,   333333.34375,\n",
       "         363636.375  ,   393939.40625,   424242.4375 ,   454545.46875,\n",
       "         484848.5    ,   515151.5    ,   545454.5625 ,   575757.5625 ,\n",
       "         606060.625  ,   636363.625  ,   666666.6875 ,   696969.6875 ,\n",
       "         727272.75   ,   757575.75   ,   787878.8125 ,   818181.8125 ,\n",
       "         848484.875  ,   878787.875  ,   909090.9375 ,   939393.9375 ,\n",
       "         969697.     ,  1000000.     ,  1030303.     ,  1060606.     ,\n",
       "        1090909.125  ,  1121212.125  ,  1151515.125  ,  1181818.125  ,\n",
       "        1212121.25   ,  1242424.25   ,  1272727.25   ,  1303030.25   ,\n",
       "        1333333.375  ,  1363636.375  ,  1393939.375  ,  1424242.375  ,\n",
       "        1454545.5    ,  1484848.5    ,  1515151.5    ,  1545454.5    ,\n",
       "        1575757.625  ,  1606060.625  ,  1636363.625  ,  1666666.625  ,\n",
       "        1696969.75   ,  1727272.75   ,  1757575.75   ,  1787878.75   ,\n",
       "        1818181.875  ,  1848484.875  ,  1878787.875  ,  1909090.875  ,\n",
       "        1939394.     ,  1969697.     ,  2000000.     ,  2030303.     ,\n",
       "        2060606.     ,  2090909.125  ,  2121212.     ,  2151515.25   ,\n",
       "        2181818.25   ,  2212121.25   ,  2242424.25   ,  2272727.25   ,\n",
       "        2303030.25   ,  2333333.25   ,  2363636.25   ,  2393939.5    ,\n",
       "        2424242.5    ,  2454545.5    ,  2484848.5    ,  2515151.5    ,\n",
       "        2545454.5    ,  2575757.5    ,  2606060.5    ,  2636363.75   ,\n",
       "        2666666.75   ,  2696969.75   ,  2727272.75   ,  2757575.75   ,\n",
       "        2787878.75   ,  2818181.75   ,  2848484.75   ,  2878788.     ,\n",
       "        2909091.     ,  2939394.     ,  2969697.     ,  3000000.     ], dtype=float32)"
      ]
     },
     "execution_count": 44,
     "metadata": {},
     "output_type": "execute_result"
    }
   ],
   "source": [
    "salaire = simulation2.calculate('salaire', period='2015')\n",
    "salaire"
   ]
  },
  {
   "cell_type": "code",
   "execution_count": 45,
   "metadata": {
    "collapsed": false
   },
   "outputs": [
    {
     "data": {
      "text/plain": [
       "array([      0.        ,       0.        ,       0.        ,\n",
       "             0.        ,       0.        ,       0.        ,\n",
       "             0.        ,       0.        ,       0.        ,\n",
       "             0.        ,       0.        ,       0.        ,\n",
       "             0.        ,       0.        ,       0.        ,\n",
       "             0.        ,       0.        ,       0.        ,\n",
       "             0.        ,       0.        ,       0.        ,\n",
       "          1272.72497559,    7333.33740234,   13393.9375    ,\n",
       "         19454.55078125,   25515.15039062,   31575.76171875,\n",
       "         37636.36328125,   43696.9765625 ,   49757.57421875,\n",
       "         55818.1875    ,   61878.7890625 ,   67939.3984375 ,\n",
       "         74000.        ,   80060.6015625 ,   86121.203125  ,\n",
       "         92181.828125  ,   98242.421875  ,  104303.0234375 ,\n",
       "        110363.625     ,  116424.25      ,  122484.8515625 ,\n",
       "        128545.453125  ,  134606.046875  ,  140666.671875  ,\n",
       "        146727.28125   ,  152787.875     ,  158848.46875   ,\n",
       "        164909.09375   ,  170969.703125  ,  178545.453125  ,\n",
       "        187636.34375   ,  196727.28125   ,  205818.1875    ,\n",
       "        214909.09375   ,  223999.984375  ,  233090.921875  ,\n",
       "        242181.828125  ,  251272.71875   ,  260363.625     ,\n",
       "        269454.5625    ,  278545.46875   ,  287636.375     ,\n",
       "        296727.25      ,  305818.1875    ,  314909.09375   ,\n",
       "        324000.        ,  333090.90625   ,  342181.8125    ,\n",
       "        351272.75      ,  360363.59375   ,  369454.5625    ,\n",
       "        378545.46875   ,  387636.375     ,  396727.28125   ,\n",
       "        405818.1875    ,  414909.0625    ,  423999.96875   ,\n",
       "        433090.875     ,  442181.84375   ,  451272.75      ,\n",
       "        460363.65625   ,  469454.5625    ,  478545.4375    ,\n",
       "        487636.34375   ,  496727.25      ,  505818.15625   ,\n",
       "        514909.125     ,  524000.03125   ,  533090.9375    ,\n",
       "        542181.8125    ,  551272.75      ,  560363.625     ,\n",
       "        569454.5       ,  578545.4375    ,  587636.375     ,\n",
       "        596727.3125    ,  605818.1875    ,  614909.125     ,  624000.        ], dtype=float32)"
      ]
     },
     "execution_count": 45,
     "metadata": {},
     "output_type": "execute_result"
    }
   ],
   "source": [
    "impot_progressif = simulation2.calculate('impot_progressif', period='2015')\n",
    "impot_progressif"
   ]
  },
  {
   "cell_type": "code",
   "execution_count": 46,
   "metadata": {
    "collapsed": false
   },
   "outputs": [],
   "source": [
    "import matplotlib.pyplot as plt\n",
    "%matplotlib inline"
   ]
  },
  {
   "cell_type": "code",
   "execution_count": 48,
   "metadata": {
    "collapsed": false
   },
   "outputs": [
    {
     "data": {
      "text/plain": [
       "<matplotlib.text.Text at 0x7fba4287fa10>"
      ]
     },
     "execution_count": 48,
     "metadata": {},
     "output_type": "execute_result"
    },
    {
     "data": {
      "image/png": "[encoded data removed]",
      "text/plain": [
       "<matplotlib.figure.Figure at 0x7fba42903150>"
      ]
     },
     "metadata": {},
     "output_type": "display_data"
    }
   ],
   "source": [
    "plt.plot(salaire, impot_progressif)\n",
    "plt.xlabel(u'Salaire')\n",
    "plt.ylabel(u'Impôt progressif')"
   ]
  },
  {
   "cell_type": "code",
   "execution_count": 49,
   "metadata": {
    "collapsed": true
   },
   "outputs": [],
   "source": [
    "from openfisca_core import rates"
   ]
  },
  {
   "cell_type": "code",
   "execution_count": 63,
   "metadata": {
    "collapsed": false
   },
   "outputs": [
    {
     "data": {
      "text/plain": [
       "[<matplotlib.lines.Line2D at 0x7fba41b049d0>]"
      ]
     },
     "execution_count": 63,
     "metadata": {},
     "output_type": "execute_result"
    },
    {
     "data": {
      "image/png": "[encoded data removed]",
      "text/plain": [
       "<matplotlib.figure.Figure at 0x7fba42ecc1d0>"
      ]
     },
     "metadata": {},
     "output_type": "display_data"
    }
   ],
   "source": [
    "fig, ax1 = plt.subplots(figsize=(12, 8))\n",
    "\n",
    "ax1.plot(salaire, impot_progressif)\n",
    "ax1.set_xlabel(u'Salaire')\n",
    "ax1.set_ylabel(u'Impôt progressif')\n",
    "\n",
    "ax2 = ax1.twinx()\n",
    "ax2.set_ylabel(u'Taux marginaux')\n",
    "ax2.plot(\n",
    "    salaire[:-1],\n",
    "    1 - rates.marginal_rate(target=impot_progressif, varying=salaire),\n",
    ")"
   ]
  },
  {
   "cell_type": "code",
   "execution_count": null,
   "metadata": {
    "collapsed": true
   },
   "outputs": [],
   "source": []
  }
 ],
 "metadata": {
  "kernelspec": {
   "display_name": "Python 2",
   "language": "python",
   "name": "python2"
  },
  "language_info": {
   "codemirror_mode": {
    "name": "ipython",
    "version": 2
   },
   "file_extension": ".py",
   "mimetype": "text/x-python",
   "name": "python",
   "nbconvert_exporter": "python",
   "pygments_lexer": "ipython2",
   "version": "2.7.12"
  }
 },
 "nbformat": 4,
 "nbformat_minor": 0
}
