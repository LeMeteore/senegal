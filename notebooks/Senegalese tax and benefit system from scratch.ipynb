{
 "cells": [
  {
   "cell_type": "markdown",
   "metadata": {},
   "source": [
    "# Senegalese tax and benefit system from scratch"
   ]
  },
  {
   "cell_type": "code",
   "execution_count": 1,
   "metadata": {
    "collapsed": true
   },
   "outputs": [],
   "source": [
    "%load_ext autoreload\n",
    "%autoreload 2"
   ]
  },
  {
   "cell_type": "code",
   "execution_count": 2,
   "metadata": {
    "collapsed": false,
    "scrolled": true
   },
   "outputs": [],
   "source": [
    "import numpy as np\n",
    "\n",
    "from openfisca_core.columns import BoolCol, IntCol, DateCol, FloatCol\n",
    "from openfisca_core.formulas import set_input_divide_by_period, set_input_dispatch_by_period\n",
    "from openfisca_core.variables import Variable\n",
    "\n",
    "from openfisca_senegal import SenegalTaxBenefitSystem\n",
    "from openfisca_senegal.entities import Individus"
   ]
  },
  {
   "cell_type": "code",
   "execution_count": 3,
   "metadata": {
    "collapsed": false
   },
   "outputs": [],
   "source": [
    "tax_benefit_system = SenegalTaxBenefitSystem()"
   ]
  },
  {
   "cell_type": "markdown",
   "metadata": {},
   "source": [
    "Les paramètres de la législation sont définis ci-dessous via une string XML.\n",
    "\n",
    "Le barème de l'impôt progressif a été récupéré dans le fichier http://www.gouv.sn/IMG/pdf/cgi2013.pdf à la page 71."
   ]
  },
  {
   "cell_type": "code",
   "execution_count": 4,
   "metadata": {
    "collapsed": false
   },
   "outputs": [],
   "source": [
    "tax_benefit_system.add_legislation_params(u'''\n",
    "<NODE code=\"root\">\n",
    "  <BAREME code=\"bareme_impot_progressif\" type=\"monetary\">\n",
    "    <TRANCHE code=\"tranche0\">\n",
    "      <SEUIL>\n",
    "        <VALUE deb=\"2013-01-01\" fuzzy=\"true\" valeur=\"0\" />\n",
    "      </SEUIL>\n",
    "      <TAUX>\n",
    "        <VALUE deb=\"2013-01-01\" fuzzy=\"true\" valeur=\"0\" />\n",
    "      </TAUX>\n",
    "    </TRANCHE>\n",
    "    <TRANCHE code=\"tranche1\">\n",
    "      <SEUIL>\n",
    "        <VALUE deb=\"2013-01-01\" fuzzy=\"true\" valeur=\"630000\" />\n",
    "      </SEUIL>\n",
    "      <TAUX>\n",
    "        <VALUE deb=\"2013-01-01\" fuzzy=\"true\" valeur=\"0.2\" />\n",
    "      </TAUX>\n",
    "    </TRANCHE>\n",
    "    <TRANCHE code=\"tranche2\">\n",
    "      <SEUIL>\n",
    "        <VALUE deb=\"2013-01-01\" fuzzy=\"true\" valeur=\"1500000\" />\n",
    "      </SEUIL>\n",
    "      <TAUX>\n",
    "        <VALUE deb=\"2013-01-01\" fuzzy=\"true\" valeur=\"0.3\" />\n",
    "      </TAUX>\n",
    "    </TRANCHE>\n",
    "    <TRANCHE code=\"tranche3\">\n",
    "      <SEUIL>\n",
    "        <VALUE deb=\"2013-01-01\" fuzzy=\"true\" valeur=\"4000000\" />\n",
    "      </SEUIL>\n",
    "      <TAUX>\n",
    "        <VALUE deb=\"2013-01-01\" fuzzy=\"true\" valeur=\"0.35\" />\n",
    "      </TAUX>\n",
    "    </TRANCHE>\n",
    "    <TRANCHE code=\"tranche4\">\n",
    "      <SEUIL>\n",
    "        <VALUE deb=\"2013-01-01\" fuzzy=\"true\" valeur=\"8000000\" />\n",
    "      </SEUIL>\n",
    "      <TAUX>\n",
    "        <VALUE deb=\"2013-01-01\" fuzzy=\"true\" valeur=\"0.37\" />\n",
    "      </TAUX>\n",
    "    </TRANCHE>\n",
    "    <TRANCHE code=\"tranche5\">\n",
    "      <SEUIL>\n",
    "        <VALUE deb=\"2013-01-01\" fuzzy=\"true\" valeur=\"13500000\" />\n",
    "      </SEUIL>\n",
    "      <TAUX>\n",
    "        <VALUE deb=\"2013-01-01\" fuzzy=\"true\" valeur=\"0.4\" />\n",
    "      </TAUX>\n",
    "    </TRANCHE>\n",
    "  </BAREME>\n",
    "  <NODE code=\"reductions_pour_charge_de_famille\">\n",
    "    <CODE code=\"taux_1\" format=\"percent\">\n",
    "      <VALUE deb=\"2013-01-01\" fuzzy=\"true\" valeur=\"0\" />\n",
    "    </CODE>\n",
    "    <CODE code=\"taux_2\" format=\"percent\">\n",
    "      <VALUE deb=\"2013-01-01\" fuzzy=\"true\" valeur=\"0.1\" />\n",
    "    </CODE>\n",
    "    <CODE code=\"taux_3\" format=\"percent\">\n",
    "      <VALUE deb=\"2013-01-01\" fuzzy=\"true\" valeur=\"0.15\" />\n",
    "    </CODE>\n",
    "    <CODE code=\"taux_4\" format=\"percent\">\n",
    "      <VALUE deb=\"2013-01-01\" fuzzy=\"true\" valeur=\"0.2\" />\n",
    "    </CODE>\n",
    "    <CODE code=\"taux_5\" format=\"percent\">\n",
    "      <VALUE deb=\"2013-01-01\" fuzzy=\"true\" valeur=\"0.25\" />\n",
    "    </CODE>\n",
    "    <CODE code=\"taux_6\" format=\"percent\">\n",
    "      <VALUE deb=\"2013-01-01\" fuzzy=\"true\" valeur=\"0.3\" />\n",
    "    </CODE>\n",
    "    <CODE code=\"taux_7\" format=\"percent\">\n",
    "      <VALUE deb=\"2013-01-01\" fuzzy=\"true\" valeur=\"0.35\" />\n",
    "    </CODE>\n",
    "    <CODE code=\"taux_8\" format=\"percent\">\n",
    "      <VALUE deb=\"2013-01-01\" fuzzy=\"true\" valeur=\"0.4\" />\n",
    "    </CODE>\n",
    "    <CODE code=\"taux_9\" format=\"percent\">\n",
    "      <VALUE deb=\"2013-01-01\" fuzzy=\"true\" valeur=\"0.45\" />\n",
    "    </CODE>\n",
    "    <CODE code=\"min_1\" type=\"monetary\">\n",
    "      <VALUE deb=\"2013-01-01\" fuzzy=\"true\" valeur=\"0\" />\n",
    "    </CODE>\n",
    "    <CODE code=\"min_2\" type=\"monetary\">\n",
    "      <VALUE deb=\"2013-01-01\" fuzzy=\"true\" valeur=\"100000\" />\n",
    "    </CODE>\n",
    "    <CODE code=\"min_3\" type=\"monetary\">\n",
    "      <VALUE deb=\"2013-01-01\" fuzzy=\"true\" valeur=\"200000\" />\n",
    "    </CODE>\n",
    "    <CODE code=\"min_4\" type=\"monetary\">\n",
    "      <VALUE deb=\"2013-01-01\" fuzzy=\"true\" valeur=\"300000\" />\n",
    "    </CODE>\n",
    "    <CODE code=\"min_5\" type=\"monetary\">\n",
    "      <VALUE deb=\"2013-01-01\" fuzzy=\"true\" valeur=\"400000\" />\n",
    "    </CODE>\n",
    "    <CODE code=\"min_6\" type=\"monetary\">\n",
    "      <VALUE deb=\"2013-01-01\" fuzzy=\"true\" valeur=\"500000\" />\n",
    "    </CODE>\n",
    "    <CODE code=\"min_7\" type=\"monetary\">\n",
    "      <VALUE deb=\"2013-01-01\" fuzzy=\"true\" valeur=\"600000\" />\n",
    "    </CODE>\n",
    "    <CODE code=\"min_8\" type=\"monetary\">\n",
    "      <VALUE deb=\"2013-01-01\" fuzzy=\"true\" valeur=\"700000\" />\n",
    "    </CODE>\n",
    "    <CODE code=\"min_9\" type=\"monetary\">\n",
    "      <VALUE deb=\"2013-01-01\" fuzzy=\"true\" valeur=\"800000\" />\n",
    "    </CODE>\n",
    "    <CODE code=\"max_1\" type=\"monetary\">\n",
    "      <VALUE deb=\"2013-01-01\" fuzzy=\"true\" valeur=\"0\" />\n",
    "    </CODE>\n",
    "    <CODE code=\"max_2\" type=\"monetary\">\n",
    "      <VALUE deb=\"2013-01-01\" fuzzy=\"true\" valeur=\"300000\" />\n",
    "    </CODE>\n",
    "    <CODE code=\"max_3\" type=\"monetary\">\n",
    "      <VALUE deb=\"2013-01-01\" fuzzy=\"true\" valeur=\"650000\" />\n",
    "    </CODE>\n",
    "    <CODE code=\"max_4\" type=\"monetary\">\n",
    "      <VALUE deb=\"2013-01-01\" fuzzy=\"true\" valeur=\"1100000\" />\n",
    "    </CODE>\n",
    "    <CODE code=\"max_5\" type=\"monetary\">\n",
    "      <VALUE deb=\"2013-01-01\" fuzzy=\"true\" valeur=\"1650000\" />\n",
    "    </CODE>\n",
    "    <CODE code=\"max_6\" type=\"monetary\">\n",
    "      <VALUE deb=\"2013-01-01\" fuzzy=\"true\" valeur=\"2030000\" />\n",
    "    </CODE>\n",
    "    <CODE code=\"max_7\" type=\"monetary\">\n",
    "      <VALUE deb=\"2013-01-01\" fuzzy=\"true\" valeur=\"2490000\" />\n",
    "    </CODE>\n",
    "    <CODE code=\"max_8\" type=\"monetary\">\n",
    "      <VALUE deb=\"2013-01-01\" fuzzy=\"true\" valeur=\"2755000\" />\n",
    "    </CODE>\n",
    "    <CODE code=\"max_9\" type=\"monetary\">\n",
    "      <VALUE deb=\"2013-01-01\" fuzzy=\"true\" valeur=\"3180000\" />\n",
    "    </CODE>\n",
    "  </NODE>\n",
    "</NODE>\n",
    "''')"
   ]
  },
  {
   "cell_type": "code",
   "execution_count": 5,
   "metadata": {
    "collapsed": false
   },
   "outputs": [
    {
     "data": {
      "text/plain": [
       "<openfisca_core.columns.FloatCol at 0x7f84f84fa3d0>"
      ]
     },
     "execution_count": 5,
     "metadata": {},
     "output_type": "execute_result"
    }
   ],
   "source": [
    "class id_famille(Variable):\n",
    "    column = IntCol\n",
    "    entity_class = Individus\n",
    "    is_permanent = True\n",
    "    label = u\"Identifiant de la famille\"\n",
    "\n",
    "tax_benefit_system.update_variable(id_famille)\n",
    "\n",
    "\n",
    "class role_dans_famille(Variable):\n",
    "    column = IntCol\n",
    "    entity_class = Individus\n",
    "    is_permanent = True\n",
    "    label = u\"Rôle dans la famille\"\n",
    "\n",
    "tax_benefit_system.update_variable(role_dans_famille)\n",
    "\n",
    "\n",
    "class date_de_naissance(Variable):\n",
    "    column = DateCol\n",
    "    entity_class = Individus\n",
    "    label = u\"Date de naissance\"\n",
    "\n",
    "tax_benefit_system.update_variable(date_de_naissance)\n",
    "\n",
    "\n",
    "class salaire(Variable):\n",
    "    column = FloatCol\n",
    "    entity_class = Individus\n",
    "    label = \"Salaire\"\n",
    "    set_input = set_input_divide_by_period\n",
    "\n",
    "tax_benefit_system.update_variable(salaire)\n",
    "\n"
   ]
  },
  {
   "cell_type": "code",
   "execution_count": 6,
   "metadata": {
    "collapsed": false
   },
   "outputs": [
    {
     "data": {
      "text/plain": [
       "<openfisca_core.columns.IntCol at 0x7f84dc348650>"
      ]
     },
     "execution_count": 6,
     "metadata": {},
     "output_type": "execute_result"
    }
   ],
   "source": [
    "class est_marie(Variable):\n",
    "    column = BoolCol\n",
    "    entity_class = Individus\n",
    "    label = u\"Est marié\"\n",
    "    set_input = set_input_dispatch_by_period\n",
    "\n",
    "tax_benefit_system.update_variable(est_marie)\n",
    "\n",
    "\n",
    "class conjoint_a_des_revenus(Variable):\n",
    "    column = BoolCol\n",
    "    entity_class = Individus\n",
    "\n",
    "tax_benefit_system.update_variable(conjoint_a_des_revenus)\n",
    "\n",
    "\n",
    "class nombre_enfants(Variable):\n",
    "    column = IntCol\n",
    "    entity_class = Individus\n",
    "\n",
    "tax_benefit_system.update_variable(nombre_enfants)"
   ]
  },
  {
   "cell_type": "code",
   "execution_count": 7,
   "metadata": {
    "collapsed": false
   },
   "outputs": [
    {
     "data": {
      "text/plain": [
       "<openfisca_core.columns.FloatCol at 0x7f84dc311890>"
      ]
     },
     "execution_count": 7,
     "metadata": {},
     "output_type": "execute_result"
    }
   ],
   "source": [
    "class nombre_de_parts(Variable):\n",
    "    column = FloatCol\n",
    "    entity_class = Individus\n",
    "    label = u\"Nombre de parts\"\n",
    "\n",
    "    def function(self, simulation, period):\n",
    "        nombre_de_parts_enfants = simulation.calculate('nombre_enfants', period) * 0.5\n",
    "\n",
    "        conjoint_a_des_revenus = simulation.calculate('conjoint_a_des_revenus', period)\n",
    "        est_marie = simulation.calculate('est_marie', period)\n",
    "        nombre_de_parts_conjoint = est_marie * 0.5 + (1 - conjoint_a_des_revenus) * 0.5\n",
    "\n",
    "        nombre_de_parts = 1 + nombre_de_parts_conjoint + nombre_de_parts_enfants\n",
    "\n",
    "        return period, np.minimum(5, nombre_de_parts)\n",
    "        \n",
    "\n",
    "tax_benefit_system.update_variable(nombre_de_parts)\n",
    "\n",
    "\n",
    "class impot_avant_reduction_famille(Variable):\n",
    "    column = FloatCol\n",
    "    entity_class = Individus\n",
    "\n",
    "    def function(self, simulation, period):\n",
    "        salaire = simulation.calculate_add('salaire', period)\n",
    "        bareme_impot_progressif = simulation.legislation_at(period.start).bareme_impot_progressif\n",
    "        return period, bareme_impot_progressif.calc(salaire)\n",
    "\n",
    "tax_benefit_system.update_variable(impot_avant_reduction_famille)\n",
    "\n",
    "\n",
    "class reduction_impots_pour_charge_famille(Variable):\n",
    "    column = FloatCol\n",
    "    entity_class = Individus\n",
    "\n",
    "    def function(self, simulation, period):\n",
    "        impot_avant_reduction_famille = simulation.calculate('impot_avant_reduction_famille', period)\n",
    "        \n",
    "        nombre_de_parts = simulation.calculate('nombre_de_parts', period)\n",
    "        reductions_pour_charge_de_famille = simulation.legislation_at(period.start).reductions_pour_charge_de_famille\n",
    "        taux = (nombre_de_parts == 1) * reductions_pour_charge_de_famille.taux_1 + \\\n",
    "            (nombre_de_parts == 1.5) * reductions_pour_charge_de_famille.taux_2 + \\\n",
    "            (nombre_de_parts == 2) * reductions_pour_charge_de_famille.taux_3 + \\\n",
    "            (nombre_de_parts == 2.5) * reductions_pour_charge_de_famille.taux_4 + \\\n",
    "            (nombre_de_parts == 3) * reductions_pour_charge_de_famille.taux_5 + \\\n",
    "            (nombre_de_parts == 3.5) * reductions_pour_charge_de_famille.taux_6 + \\\n",
    "            (nombre_de_parts == 4) * reductions_pour_charge_de_famille.taux_7 + \\\n",
    "            (nombre_de_parts == 4.5) * reductions_pour_charge_de_famille.taux_8 + \\\n",
    "            (nombre_de_parts == 5) * reductions_pour_charge_de_famille.taux_9\n",
    "        minimum = (nombre_de_parts == 1) * reductions_pour_charge_de_famille.min_1 + \\\n",
    "            (nombre_de_parts == 1.5) * reductions_pour_charge_de_famille.min_2 + \\\n",
    "            (nombre_de_parts == 2) * reductions_pour_charge_de_famille.min_3 + \\\n",
    "            (nombre_de_parts == 2.5) * reductions_pour_charge_de_famille.min_4 + \\\n",
    "            (nombre_de_parts == 3) * reductions_pour_charge_de_famille.min_5 + \\\n",
    "            (nombre_de_parts == 3.5) * reductions_pour_charge_de_famille.min_6 + \\\n",
    "            (nombre_de_parts == 4) * reductions_pour_charge_de_famille.min_7 + \\\n",
    "            (nombre_de_parts == 4.5) * reductions_pour_charge_de_famille.min_8 + \\\n",
    "            (nombre_de_parts == 5) * reductions_pour_charge_de_famille.min_9\n",
    "        maximum = (nombre_de_parts == 1) * reductions_pour_charge_de_famille.max_1 + \\\n",
    "            (nombre_de_parts == 1.5) * reductions_pour_charge_de_famille.max_2 + \\\n",
    "            (nombre_de_parts == 2) * reductions_pour_charge_de_famille.max_3 + \\\n",
    "            (nombre_de_parts == 2.5) * reductions_pour_charge_de_famille.max_4 + \\\n",
    "            (nombre_de_parts == 3) * reductions_pour_charge_de_famille.max_5 + \\\n",
    "            (nombre_de_parts == 3.5) * reductions_pour_charge_de_famille.max_6 + \\\n",
    "            (nombre_de_parts == 4) * reductions_pour_charge_de_famille.max_7 + \\\n",
    "            (nombre_de_parts == 4.5) * reductions_pour_charge_de_famille.max_8 + \\\n",
    "            (nombre_de_parts == 5) * reductions_pour_charge_de_famille.max_9\n",
    "\n",
    "        reduction_impot = np.clip(impot_avant_reduction_famille * taux, a_min=minimum, a_max=maximum)\n",
    "        \n",
    "        return period, reduction_impot\n",
    "\n",
    "tax_benefit_system.update_variable(reduction_impots_pour_charge_famille)\n",
    "\n",
    "\n",
    "class impot_revenus(Variable):\n",
    "    column = FloatCol\n",
    "    entity_class = Individus\n",
    "\n",
    "    def function(self, simulation, period):\n",
    "        impot_avant_reduction_famille = simulation.calculate('impot_avant_reduction_famille', period)\n",
    "        reduction_impots_pour_charge_famille = simulation.calculate('reduction_impots_pour_charge_famille', period)\n",
    "        impot_apres_reduction_famille = impot_avant_reduction_famille - reduction_impots_pour_charge_famille\n",
    "        return period, np.maximum(0, impot_apres_reduction_famille)\n",
    "\n",
    "tax_benefit_system.update_variable(impot_revenus)"
   ]
  },
  {
   "cell_type": "code",
   "execution_count": 8,
   "metadata": {
    "collapsed": true
   },
   "outputs": [],
   "source": [
    "scenario = tax_benefit_system.new_scenario()"
   ]
  },
  {
   "cell_type": "code",
   "execution_count": 9,
   "metadata": {
    "collapsed": false
   },
   "outputs": [
    {
     "data": {
      "text/plain": [
       "<openfisca_senegal.scenarios.Scenario at 0x7f84dc34ded0>"
      ]
     },
     "execution_count": 9,
     "metadata": {},
     "output_type": "execute_result"
    }
   ],
   "source": [
    "scenario.init_single_entity(\n",
    "    parent1={\n",
    "        'salaire': 1800000,\n",
    "        'est_marie': True,\n",
    "        'conjoint_a_des_revenus': False,\n",
    "        'nombre_enfants': 2,\n",
    "    },\n",
    "    period='2015',\n",
    ")"
   ]
  },
  {
   "cell_type": "code",
   "execution_count": 10,
   "metadata": {
    "collapsed": false
   },
   "outputs": [],
   "source": [
    "simulation = scenario.new_simulation()"
   ]
  },
  {
   "cell_type": "code",
   "execution_count": 11,
   "metadata": {
    "collapsed": false
   },
   "outputs": [
    {
     "data": {
      "text/plain": [
       "array([ 1800000.], dtype=float32)"
      ]
     },
     "execution_count": 11,
     "metadata": {},
     "output_type": "execute_result"
    }
   ],
   "source": [
    "simulation.calculate('salaire', period='2015')"
   ]
  },
  {
   "cell_type": "code",
   "execution_count": 12,
   "metadata": {
    "collapsed": false
   },
   "outputs": [
    {
     "data": {
      "text/plain": [
       "array([ 264000.], dtype=float32)"
      ]
     },
     "execution_count": 12,
     "metadata": {},
     "output_type": "execute_result"
    }
   ],
   "source": [
    "simulation.calculate('impot_avant_reduction_famille', period='2015')"
   ]
  },
  {
   "cell_type": "code",
   "execution_count": 13,
   "metadata": {
    "collapsed": false
   },
   "outputs": [
    {
     "data": {
      "text/plain": [
       "array([ 400000.], dtype=float32)"
      ]
     },
     "execution_count": 13,
     "metadata": {},
     "output_type": "execute_result"
    }
   ],
   "source": [
    "simulation.calculate('reduction_impots_pour_charge_famille', period='2015')"
   ]
  },
  {
   "cell_type": "code",
   "execution_count": 14,
   "metadata": {
    "collapsed": false
   },
   "outputs": [
    {
     "data": {
      "text/plain": [
       "array([ 0.], dtype=float32)"
      ]
     },
     "execution_count": 14,
     "metadata": {},
     "output_type": "execute_result"
    }
   ],
   "source": [
    "simulation.calculate('impot_revenus', period='2015')"
   ]
  },
  {
   "cell_type": "code",
   "execution_count": 15,
   "metadata": {
    "collapsed": false
   },
   "outputs": [
    {
     "data": {
      "text/plain": [
       "264000.0"
      ]
     },
     "execution_count": 15,
     "metadata": {},
     "output_type": "execute_result"
    }
   ],
   "source": [
    "(1500000 - 630000) * 0.2 + (1800000 - 1500000) * 0.3"
   ]
  },
  {
   "cell_type": "code",
   "execution_count": 16,
   "metadata": {
    "collapsed": false
   },
   "outputs": [
    {
     "data": {
      "text/plain": [
       "array([ 3.], dtype=float32)"
      ]
     },
     "execution_count": 16,
     "metadata": {},
     "output_type": "execute_result"
    }
   ],
   "source": [
    "simulation.calculate('nombre_de_parts', period='2015')"
   ]
  },
  {
   "cell_type": "markdown",
   "metadata": {},
   "source": [
    "## Simuler plusieurs cas types à la fois"
   ]
  },
  {
   "cell_type": "code",
   "execution_count": 17,
   "metadata": {
    "collapsed": false
   },
   "outputs": [],
   "source": [
    "import matplotlib.pyplot as plt\n",
    "%matplotlib inline"
   ]
  },
  {
   "cell_type": "code",
   "execution_count": 22,
   "metadata": {
    "collapsed": true
   },
   "outputs": [],
   "source": [
    "scenario1 = tax_benefit_system.new_scenario()\n",
    "scenario1.init_single_entity(\n",
    "    parent1={\n",
    "        'salaire': 1800000,\n",
    "        'est_marie': True,\n",
    "        'conjoint_a_des_revenus': False,\n",
    "        'nombre_enfants': 0,\n",
    "    },\n",
    "    period='2015',\n",
    "    axes=[\n",
    "        {\n",
    "            'count': 100,\n",
    "            'min': 0,\n",
    "            'max': 3e6,\n",
    "            'name': 'salaire',\n",
    "        }\n",
    "    ],\n",
    ")\n",
    "simulation1 = scenario1.new_simulation()\n",
    "\n",
    "salaire1 = simulation1.calculate('salaire', period='2015')\n",
    "reduction_impots_pour_charge_famille1 = simulation1.calculate('reduction_impots_pour_charge_famille', period='2015')\n",
    "impot_avant_reduction_famille1 = simulation1.calculate('impot_avant_reduction_famille', period='2015')\n",
    "impot_revenus1 = simulation1.calculate('impot_revenus', period='2015')"
   ]
  },
  {
   "cell_type": "code",
   "execution_count": 33,
   "metadata": {
    "collapsed": false,
    "scrolled": false
   },
   "outputs": [
    {
     "data": {
      "text/plain": [
       "<matplotlib.text.Text at 0x7f84ca950150>"
      ]
     },
     "execution_count": 33,
     "metadata": {},
     "output_type": "execute_result"
    },
    {
     "data": {
      "image/png": "[encoded data removed]",
      "text/plain": [
       "<matplotlib.figure.Figure at 0x7f84ca9e16d0>"
      ]
     },
     "metadata": {},
     "output_type": "display_data"
    }
   ],
   "source": [
    "plt.figure(figsize=(12, 8))\n",
    "plt.plot(salaire1, impot_avant_reduction_famille1, label=u'avant réduction famille')\n",
    "plt.plot(salaire1, reduction_impots_pour_charge_famille1, label=u'réduction famille')\n",
    "plt.plot(salaire1, impot_revenus1, label=u'impôt revenus')\n",
    "plt.xlabel(u'Salaire')\n",
    "plt.legend()\n",
    "plt.title(u'0 enfants', fontsize=20)"
   ]
  },
  {
   "cell_type": "code",
   "execution_count": 37,
   "metadata": {
    "collapsed": true
   },
   "outputs": [],
   "source": [
    "scenario2 = tax_benefit_system.new_scenario()\n",
    "scenario2.init_single_entity(\n",
    "    parent1={\n",
    "        'salaire': 1800000,\n",
    "        'est_marie': True,\n",
    "        'conjoint_a_des_revenus': False,\n",
    "        'nombre_enfants': 1,\n",
    "    },\n",
    "    period='2015',\n",
    "    axes=[\n",
    "        {\n",
    "            'count': 100,\n",
    "            'min': 0,\n",
    "            'max': 3e6,\n",
    "            'name': 'salaire',\n",
    "        }\n",
    "    ],\n",
    ")\n",
    "simulation2 = scenario2.new_simulation()\n",
    "\n",
    "salaire2 = simulation2.calculate('salaire', period='2015')\n",
    "reduction_impots_pour_charge_famille2 = simulation2.calculate('reduction_impots_pour_charge_famille', period='2015')\n",
    "impot_avant_reduction_famille2 = simulation2.calculate('impot_avant_reduction_famille', period='2015')\n",
    "impot_revenus2 = simulation2.calculate('impot_revenus', period='2015')"
   ]
  },
  {
   "cell_type": "code",
   "execution_count": 58,
   "metadata": {
    "collapsed": false,
    "scrolled": false
   },
   "outputs": [
    {
     "data": {
      "text/plain": [
       "<matplotlib.text.Text at 0x7f84c9bd7210>"
      ]
     },
     "execution_count": 58,
     "metadata": {},
     "output_type": "execute_result"
    },
    {
     "data": {
      "image/png": "[encoded data removed]",
      "text/plain": [
       "<matplotlib.figure.Figure at 0x7f84c9cfda50>"
      ]
     },
     "metadata": {},
     "output_type": "display_data"
    }
   ],
   "source": [
    "plt.figure(figsize=(12, 8))\n",
    "plt.plot(salaire2, impot_avant_reduction_famille2, label=u'avant réduction famille')\n",
    "plt.plot(salaire2, reduction_impots_pour_charge_famille2, label=u'réduction famille')\n",
    "plt.plot(salaire2, impot_revenus2, label=u'impôt revenus')\n",
    "plt.xlabel(u'Salaire')\n",
    "plt.legend()\n",
    "plt.title(u'1 enfant', fontsize=20)"
   ]
  },
  {
   "cell_type": "code",
   "execution_count": 63,
   "metadata": {
    "collapsed": false
   },
   "outputs": [
    {
     "data": {
      "text/plain": [
       "(-10000.0, 3010000.0, -10000.0, 110000.0)"
      ]
     },
     "execution_count": 63,
     "metadata": {},
     "output_type": "execute_result"
    },
    {
     "data": {
      "image/png": "[encoded data removed]",
      "text/plain": [
       "<matplotlib.figure.Figure at 0x7f84ca473c50>"
      ]
     },
     "metadata": {},
     "output_type": "display_data"
    }
   ],
   "source": [
    "impot_revenus_diff = np.abs(impot_revenus2 - impot_revenus1)\n",
    "plt.figure(figsize=(12, 8))\n",
    "plt.plot(salaire1, impot_revenus_diff, label=u'Différence d\\'impôt revenus')\n",
    "plt.xlabel(u'Salaire')\n",
    "plt.legend()\n",
    "plt.title(u'Gain fiscal du 1er enfant', fontsize=20)\n",
    "\n",
    "plot_margin = 10000\n",
    "x0, x1, y0, y1 = plt.axis()\n",
    "plt.axis((x0 - plot_margin, x1 + plot_margin, y0 - plot_margin, y1 + plot_margin))"
   ]
  },
  {
   "cell_type": "markdown",
   "metadata": {},
   "source": [
    "## Affichage des taux marginaux"
   ]
  },
  {
   "cell_type": "code",
   "execution_count": 20,
   "metadata": {
    "collapsed": true
   },
   "outputs": [],
   "source": [
    "from openfisca_core import rates"
   ]
  },
  {
   "cell_type": "code",
   "execution_count": 68,
   "metadata": {
    "collapsed": false
   },
   "outputs": [
    {
     "data": {
      "text/plain": [
       "[<matplotlib.lines.Line2D at 0x7f84c9892110>]"
      ]
     },
     "execution_count": 68,
     "metadata": {},
     "output_type": "execute_result"
    },
    {
     "data": {
      "image/png": "[encoded data removed]",
      "text/plain": [
       "<matplotlib.figure.Figure at 0x7f84ca2b0d50>"
      ]
     },
     "metadata": {},
     "output_type": "display_data"
    }
   ],
   "source": [
    "fig, ax1 = plt.subplots(figsize=(12, 8))\n",
    "\n",
    "ax1.plot(salaire1, impot_revenus1)\n",
    "ax1.set_xlabel(u'Salaire')\n",
    "ax1.set_ylabel(u'Impôt sur les revenus')\n",
    "\n",
    "ax2 = ax1.twinx()\n",
    "ax2.set_ylabel(u'Taux marginaux')\n",
    "ax2.plot(\n",
    "    salaire1[:-1],\n",
    "    1 - rates.marginal_rate(target=impot_revenus1, varying=salaire1),\n",
    ")"
   ]
  },
  {
   "cell_type": "code",
   "execution_count": null,
   "metadata": {
    "collapsed": true
   },
   "outputs": [],
   "source": []
  }
 ],
 "metadata": {
  "kernelspec": {
   "display_name": "Python 2",
   "language": "python",
   "name": "python2"
  },
  "language_info": {
   "codemirror_mode": {
    "name": "ipython",
    "version": 2
   },
   "file_extension": ".py",
   "mimetype": "text/x-python",
   "name": "python",
   "nbconvert_exporter": "python",
   "pygments_lexer": "ipython2",
   "version": "2.7.12"
  }
 },
 "nbformat": 4,
 "nbformat_minor": 0
}
